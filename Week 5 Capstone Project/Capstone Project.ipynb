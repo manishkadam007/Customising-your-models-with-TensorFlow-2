{
  "nbformat": 4,
  "nbformat_minor": 0,
  "metadata": {
    "kernelspec": {
      "display_name": "Python 3",
      "language": "python",
      "name": "python3"
    },
    "language_info": {
      "codemirror_mode": {
        "name": "ipython",
        "version": 3
      },
      "file_extension": ".py",
      "mimetype": "text/x-python",
      "name": "python",
      "nbconvert_exporter": "python",
      "pygments_lexer": "ipython3",
      "version": "3.7.1"
    },
    "colab": {
      "name": "Capstone Project.ipynb",
      "provenance": [],
      "collapsed_sections": []
    },
    "accelerator": "GPU"
  },
  "cells": [
    {
      "cell_type": "markdown",
      "metadata": {
        "id": "0xyFSeXcnDVS"
      },
      "source": [
        "# Capstone Project\n",
        "## Neural translation model\n",
        "### Instructions\n",
        "\n",
        "In this notebook, you will create a neural network that translates from English to German. You will use concepts from throughout this course, including building more flexible model architectures, freezing layers, data processing pipeline and sequence modelling.\n",
        "\n",
        "This project is peer-assessed. Within this notebook you will find instructions in each section for how to complete the project. Pay close attention to the instructions as the peer review will be carried out according to a grading rubric that checks key parts of the project instructions. Feel free to add extra cells into the notebook as required.\n",
        "\n",
        "### How to submit\n",
        "\n",
        "When you have completed the Capstone project notebook, you will submit a pdf of the notebook for peer review. First ensure that the notebook has been fully executed from beginning to end, and all of the cell outputs are visible. This is important, as the grading rubric depends on the reviewer being able to view the outputs of your notebook. Save the notebook as a pdf (File -> Download as -> PDF via LaTeX). You should then submit this pdf for review.\n",
        "\n",
        "### Let's get started!\n",
        "\n",
        "We'll start by running some imports, and loading the dataset. For this project you are free to make further imports throughout the notebook as you wish. "
      ]
    },
    {
      "cell_type": "code",
      "metadata": {
        "colab": {
          "base_uri": "https://localhost:8080/"
        },
        "id": "wbAj5_EknUF1",
        "outputId": "f9d660b2-a893-4e4d-cdfd-d2ff0b5f7c3f"
      },
      "source": [
        "from google.colab import drive\n",
        "drive.mount('/content/drive')"
      ],
      "execution_count": 1,
      "outputs": [
        {
          "output_type": "stream",
          "text": [
            "Mounted at /content/drive\n"
          ],
          "name": "stdout"
        }
      ]
    },
    {
      "cell_type": "code",
      "metadata": {
        "id": "dRoBTfvgnDVS"
      },
      "source": [
        "import tensorflow as tf\n",
        "import numpy as np\n",
        "import tensorflow_hub as hub\n",
        "import unicodedata\n",
        "import re\n",
        "from tensorflow.keras.preprocessing.text import Tokenizer\n",
        "from tensorflow.keras.preprocessing.sequence import pad_sequences\n",
        "from tensorflow.keras.models import Model\n",
        "from tensorflow.keras.layers import Layer, concatenate, Masking, LSTM, Dense, Input, Embedding"
      ],
      "execution_count": 2,
      "outputs": []
    },
    {
      "cell_type": "markdown",
      "metadata": {
        "id": "SGBoMAjynDVS"
      },
      "source": [
        "![Flags overview image](data/germany_uk_flags.png)\n",
        "\n",
        "For the capstone project, you will use a language dataset from http://www.manythings.org/anki/ to build a neural translation model. This dataset consists of over 200,000 pairs of sentences in English and German. In order to make the training quicker, we will restrict to our dataset to 20,000 pairs. Feel free to change this if you wish - the size of the dataset used is not part of the grading rubric.\n",
        "\n",
        "Your goal is to develop a neural translation model from English to German, making use of a pre-trained English word embedding module."
      ]
    },
    {
      "cell_type": "code",
      "metadata": {
        "id": "rRyjyi2QnDVS"
      },
      "source": [
        "# Run this cell to load the dataset\n",
        "\n",
        "NUM_EXAMPLES = 20000\n",
        "data_examples = []\n",
        "with open('/content/drive/MyDrive/Customizing your models with tensorflow 2/Week 5 Capstone Project/data/deu.txt', 'r', encoding='utf8') as f:\n",
        "    for line in f.readlines():\n",
        "        if len(data_examples) < NUM_EXAMPLES:\n",
        "            data_examples.append(line)\n",
        "        else:\n",
        "            break"
      ],
      "execution_count": 3,
      "outputs": []
    },
    {
      "cell_type": "code",
      "metadata": {
        "id": "OeHyaSvinDVS"
      },
      "source": [
        "# These functions preprocess English and German sentences\n",
        "\n",
        "def unicode_to_ascii(s):\n",
        "    return ''.join(c for c in unicodedata.normalize('NFD', s) if unicodedata.category(c) != 'Mn')\n",
        "\n",
        "def preprocess_sentence(sentence):\n",
        "    sentence = sentence.lower().strip()\n",
        "    sentence = re.sub(r\"ü\", 'ue', sentence)\n",
        "    sentence = re.sub(r\"ä\", 'ae', sentence)\n",
        "    sentence = re.sub(r\"ö\", 'oe', sentence)\n",
        "    sentence = re.sub(r'ß', 'ss', sentence)\n",
        "    \n",
        "    sentence = unicode_to_ascii(sentence)\n",
        "    sentence = re.sub(r\"([?.!,])\", r\" \\1 \", sentence)\n",
        "    sentence = re.sub(r\"[^a-z?.!,']+\", \" \", sentence)\n",
        "    sentence = re.sub(r'[\" \"]+', \" \", sentence)\n",
        "    \n",
        "    return sentence.strip()"
      ],
      "execution_count": 4,
      "outputs": []
    },
    {
      "cell_type": "markdown",
      "metadata": {
        "id": "NfPCK4zcnDVS"
      },
      "source": [
        "#### The custom translation model\n",
        "The following is a schematic of the custom translation model architecture you will develop in this project.\n",
        "\n",
        "![Model Schematic](data/neural_translation_model.png)\n",
        "\n",
        "Key:\n",
        "![Model key](data/neural_translation_model_key.png)\n",
        "\n",
        "The custom model consists of an encoder RNN and a decoder RNN. The encoder takes words of an English sentence as input, and uses a pre-trained word embedding to embed the words into a 128-dimensional space. To indicate the end of the input sentence, a special end token (in the same 128-dimensional space) is passed in as an input. This token is a TensorFlow Variable that is learned in the training phase (unlike the pre-trained word embedding, which is frozen).\n",
        "\n",
        "The decoder RNN takes the internal state of the encoder network as its initial state. A start token is passed in as the first input, which is embedded using a learned German word embedding. The decoder RNN then makes a prediction for the next German word, which during inference is then passed in as the following input, and this process is repeated until the special `<end>` token is emitted from the decoder."
      ]
    },
    {
      "cell_type": "markdown",
      "metadata": {
        "id": "IVtksM0cnDVS"
      },
      "source": [
        "## 1. Text preprocessing\n",
        "* Create separate lists of English and German sentences, and preprocess them using the `preprocess_sentence` function provided for you above.\n",
        "* Add a special `\"<start>\"` and `\"<end>\"` token to the beginning and end of every German sentence.\n",
        "* Use the Tokenizer class from the `tf.keras.preprocessing.text` module to tokenize the German sentences, ensuring that no character filters are applied. _Hint: use the Tokenizer's \"filter\" keyword argument._\n",
        "* Print out at least 5 randomly chosen examples of (preprocessed) English and German sentence pairs. For the German sentence, print out the text (with start and end tokens) as well as the tokenized sequence.\n",
        "* Pad the end of the tokenized German sequences with zeros, and batch the complete set of sequences into one numpy array."
      ]
    },
    {
      "cell_type": "code",
      "metadata": {
        "id": "43mFogWVnDVS"
      },
      "source": [
        "english_sentences = []\n",
        "german_sentences = []\n",
        "\n",
        "for sentence in data_examples:\n",
        "    texts = sentence.split('\\t')\n",
        "    english_sentences.append(preprocess_sentence(texts[0]))\n",
        "    german_sentences.append(\"<start> \" + preprocess_sentence(texts[1]) + \" <end>\")"
      ],
      "execution_count": 5,
      "outputs": []
    },
    {
      "cell_type": "code",
      "metadata": {
        "id": "VPSo-gBZnDVS"
      },
      "source": [
        "tokenizer = Tokenizer(filters='')\n",
        "\n",
        "tokenizer.fit_on_texts(german_sentences)\n",
        "\n",
        "german_sentences_tokenized = tokenizer.texts_to_sequences(german_sentences)"
      ],
      "execution_count": 6,
      "outputs": []
    },
    {
      "cell_type": "code",
      "metadata": {
        "id": "H6PMwwnAnDVS",
        "colab": {
          "base_uri": "https://localhost:8080/"
        },
        "outputId": "de5eb1b7-ceec-496e-c277-ed20564dc969"
      },
      "source": [
        "idx = np.random.choice(len(english_sentences), 5)\n",
        "print(f\"Selected Sentences: {idx}\")\n",
        "print()\n",
        "\n",
        "for i in idx:\n",
        "    print(f\"English Sentence: {english_sentences[i]}\")\n",
        "    print(f\"German Translation: {german_sentences[i]}\")\n",
        "    print(f\"Tokenized German Sentence: {german_sentences_tokenized[i]}\")\n",
        "    print()"
      ],
      "execution_count": 7,
      "outputs": [
        {
          "output_type": "stream",
          "text": [
            "Selected Sentences: [  936  1053 16444 10355  3402]\n",
            "\n",
            "English Sentence: what's on ?\n",
            "German Translation: <start> was ist los ? <end>\n",
            "Tokenized German Sentence: [1, 38, 6, 207, 7, 2]\n",
            "\n",
            "English Sentence: drink this .\n",
            "German Translation: <start> trink das ! <end>\n",
            "Tokenized German Sentence: [1, 680, 11, 9, 2]\n",
            "\n",
            "English Sentence: tom has an ulcer .\n",
            "German Translation: <start> tom hat ein geschwuer . <end>\n",
            "Tokenized German Sentence: [1, 5, 16, 19, 5166, 3, 2]\n",
            "\n",
            "English Sentence: i cooked dinner .\n",
            "German Translation: <start> ich habe das abendessen gekocht . <end>\n",
            "Tokenized German Sentence: [1, 4, 18, 11, 773, 2558, 3, 2]\n",
            "\n",
            "English Sentence: i'll ask tom .\n",
            "German Translation: <start> ich frage mal tom . <end>\n",
            "Tokenized German Sentence: [1, 4, 541, 76, 5, 3, 2]\n",
            "\n"
          ],
          "name": "stdout"
        }
      ]
    },
    {
      "cell_type": "code",
      "metadata": {
        "id": "5NEmF5cUnDVT",
        "colab": {
          "base_uri": "https://localhost:8080/"
        },
        "outputId": "7adf5356-3b98-4d62-a9d8-57bc4a8441db"
      },
      "source": [
        "padded_german_sentences = pad_sequences(german_sentences_tokenized, padding='post')\n",
        "padded_german_sentences_array = np.array(padded_german_sentences)\n",
        "print(padded_german_sentences_array.shape)"
      ],
      "execution_count": 8,
      "outputs": [
        {
          "output_type": "stream",
          "text": [
            "(20000, 14)\n"
          ],
          "name": "stdout"
        }
      ]
    },
    {
      "cell_type": "markdown",
      "metadata": {
        "id": "yX1XxsAcnDVT"
      },
      "source": [
        "## 2. Prepare the data with tf.data.Dataset objects"
      ]
    },
    {
      "cell_type": "markdown",
      "metadata": {
        "id": "VoYdFNLAnDVT"
      },
      "source": [
        "#### Load the embedding layer\n",
        "As part of the dataset preproceessing for this project, you will use a pre-trained English word embedding module from TensorFlow Hub. The URL for the module is https://tfhub.dev/google/tf2-preview/nnlm-en-dim128-with-normalization/1. This module has also been made available as a complete saved model in the folder `'./models/tf2-preview_nnlm-en-dim128_1'`. \n",
        "\n",
        "This embedding takes a batch of text tokens in a 1-D tensor of strings as input. It then embeds the separate tokens into a 128-dimensional space. \n",
        "\n",
        "The code to load and test the embedding layer is provided for you below.\n",
        "\n",
        "**NB:** this model can also be used as a sentence embedding module. The module will process each token by removing punctuation and splitting on spaces. It then averages the word embeddings over a sentence to give a single embedding vector. However, we will use it only as a word embedding module, and will pass each word in the input sentence as a separate token."
      ]
    },
    {
      "cell_type": "code",
      "metadata": {
        "id": "BAt36xagnDVT"
      },
      "source": [
        "# Load embedding module from Tensorflow Hub\n",
        "\n",
        "embedding_layer = hub.KerasLayer(\"https://tfhub.dev/google/tf2-preview/nnlm-en-dim128/1\", \n",
        "                                 output_shape=[128], input_shape=[], dtype=tf.string)"
      ],
      "execution_count": 9,
      "outputs": []
    },
    {
      "cell_type": "code",
      "metadata": {
        "id": "leD1msn_nDVT",
        "colab": {
          "base_uri": "https://localhost:8080/"
        },
        "outputId": "c77f88a3-d203-451e-e62d-42f7884f5cd8"
      },
      "source": [
        "# Test the layer\n",
        "\n",
        "embedding_layer(tf.constant([\"these\", \"aren't\", \"the\", \"droids\", \"you're\", \"looking\", \"for\"])).shape"
      ],
      "execution_count": 10,
      "outputs": [
        {
          "output_type": "execute_result",
          "data": {
            "text/plain": [
              "TensorShape([7, 128])"
            ]
          },
          "metadata": {
            "tags": []
          },
          "execution_count": 10
        }
      ]
    },
    {
      "cell_type": "markdown",
      "metadata": {
        "id": "T-aT5IyznDVT"
      },
      "source": [
        "You should now prepare the training and validation Datasets.\n",
        "\n",
        "* Create a random training and validation set split of the data, reserving e.g. 20% of the data for validation (NB: each English dataset example is a single sentence string, and each German dataset example is a sequence of padded integer tokens).\n",
        "* Load the training and validation sets into a tf.data.Dataset object, passing in a tuple of English and German data for both training and validation sets.\n",
        "* Create a function to map over the datasets that splits each English sentence at spaces. Apply this function to both Dataset objects using the map method. _Hint: look at the tf.strings.split function._\n",
        "* Create a function to map over the datasets that embeds each sequence of English words using the loaded embedding layer/model. Apply this function to both Dataset objects using the map method.\n",
        "* Create a function to filter out dataset examples where the English sentence is more than 13 (embedded) tokens in length. Apply this function to both Dataset objects using the filter method.\n",
        "* Create a function to map over the datasets that pads each English sequence of embeddings with some distinct padding value before the sequence, so that each sequence is length 13. Apply this function to both Dataset objects using the map method. _Hint: look at the tf.pad function. You can extract a Tensor shape using tf.shape; you might also find the tf.math.maximum function useful._\n",
        "* Batch both training and validation Datasets with a batch size of 16.\n",
        "* Print the `element_spec` property for the training and validation Datasets. \n",
        "* Using the Dataset `.take(1)` method, print the shape of the English data example from the training Dataset.\n",
        "* Using the Dataset `.take(1)` method, print the German data example Tensor from the validation Dataset."
      ]
    },
    {
      "cell_type": "code",
      "metadata": {
        "id": "k74klqftnDVU"
      },
      "source": [
        "from sklearn.model_selection import train_test_split\n",
        "\n",
        "x_train, x_val, y_train, y_val = train_test_split(english_sentences, padded_german_sentences_array, test_size=0.2, random_state=1234)"
      ],
      "execution_count": 11,
      "outputs": []
    },
    {
      "cell_type": "code",
      "metadata": {
        "id": "fpO1RxSKnDVU"
      },
      "source": [
        "train_dataset = tf.data.Dataset.from_tensor_slices((x_train, y_train))\n",
        "val_dataset = tf.data.Dataset.from_tensor_slices((x_val, y_val))"
      ],
      "execution_count": 12,
      "outputs": []
    },
    {
      "cell_type": "code",
      "metadata": {
        "id": "hAJlQjgvnDVU"
      },
      "source": [
        "def split_english_sentences(x,y):\n",
        "    x_l = tf.strings.split(x, sep=' ')\n",
        "    return (x_l,y)\n",
        "\n",
        "train_dataset = train_dataset.map(split_english_sentences)\n",
        "val_dataset = val_dataset.map(split_english_sentences)"
      ],
      "execution_count": 13,
      "outputs": []
    },
    {
      "cell_type": "code",
      "metadata": {
        "id": "m32p6js8nDVU"
      },
      "source": [
        "def embed_english_seqs(x,y):\n",
        "    embeddings = embedding_layer(x)\n",
        "    return (embeddings, y)\n",
        "\n",
        "train_dataset = train_dataset.map(embed_english_seqs)\n",
        "val_dataset = val_dataset.map(embed_english_seqs)"
      ],
      "execution_count": 14,
      "outputs": []
    },
    {
      "cell_type": "code",
      "metadata": {
        "id": "rMpB8lCInDVU",
        "colab": {
          "base_uri": "https://localhost:8080/"
        },
        "outputId": "42734c0a-a700-4d3b-92e4-33edb75165e0"
      },
      "source": [
        "train_dataset.element_spec"
      ],
      "execution_count": 15,
      "outputs": [
        {
          "output_type": "execute_result",
          "data": {
            "text/plain": [
              "(TensorSpec(shape=(None, 128), dtype=tf.float32, name=None),\n",
              " TensorSpec(shape=(14,), dtype=tf.int32, name=None))"
            ]
          },
          "metadata": {
            "tags": []
          },
          "execution_count": 15
        }
      ]
    },
    {
      "cell_type": "code",
      "metadata": {
        "id": "Zxf5odXLnDVU"
      },
      "source": [
        "def remove_longer_english_seqs(x,y):\n",
        "    return len(x)<=13\n",
        "\n",
        "train_dataset = train_dataset.filter(remove_longer_english_seqs)\n",
        "val_dataset = val_dataset.filter(remove_longer_english_seqs)"
      ],
      "execution_count": 16,
      "outputs": []
    },
    {
      "cell_type": "code",
      "metadata": {
        "id": "ckkQAf6nnDVU"
      },
      "source": [
        "def pad_english_seqs(x,y):\n",
        "    \n",
        "    paddings = tf.constant([[13,0],[0,0]])\n",
        "    x_padded = tf.pad(x, paddings)\n",
        "    \n",
        "    return x_padded[-13:,:], y\n",
        "\n",
        "train_dataset = train_dataset.map(pad_english_seqs)\n",
        "val_dataset = val_dataset.map(pad_english_seqs)"
      ],
      "execution_count": 17,
      "outputs": []
    },
    {
      "cell_type": "code",
      "metadata": {
        "id": "pxJXuTCDnDVU"
      },
      "source": [
        "train_dataset = train_dataset.batch(16)\n",
        "val_dataset = val_dataset.batch(16)"
      ],
      "execution_count": 18,
      "outputs": []
    },
    {
      "cell_type": "code",
      "metadata": {
        "id": "EpgVALB_nDVU",
        "colab": {
          "base_uri": "https://localhost:8080/"
        },
        "outputId": "eb5e4fbb-6938-468e-b2f6-5065d6d178a3"
      },
      "source": [
        "for x, y in train_dataset.take(1):\n",
        "    print(x.shape)\n",
        "    print(y)"
      ],
      "execution_count": 19,
      "outputs": [
        {
          "output_type": "stream",
          "text": [
            "(16, 13, 128)\n",
            "tf.Tensor(\n",
            "[[   1    8   23   62  138    3    2    0    0    0    0    0    0    0]\n",
            " [   1    4 2113   57  654    3    2    0    0    0    0    0    0    0]\n",
            " [   1    4   15   71 1147    3    2    0    0    0    0    0    0    0]\n",
            " [   1   67  631    8   34    3    2    0    0    0    0    0    0    0]\n",
            " [   1  131    8   11   46  378    9    2    0    0    0    0    0    0]\n",
            " [   1  158    6  102    3    2    0    0    0    0    0    0    0    0]\n",
            " [   1    4   18   60 2814    3    2    0    0    0    0    0    0    0]\n",
            " [   1   38 2015    7    2    0    0    0    0    0    0    0    0    0]\n",
            " [   1  239   11   12   72   76    9    2    0    0    0    0    0    0]\n",
            " [   1   67  882   28    9    2    0    0    0    0    0    0    0    0]\n",
            " [   1    5   16   22 2627    3    2    0    0    0    0    0    0    0]\n",
            " [   1   14  434   12   20    3    2    0    0    0    0    0    0    0]\n",
            " [   1    8 1935  104  199    3    2    0    0    0    0    0    0    0]\n",
            " [   1   74   12   20  219    9    2    0    0    0    0    0    0    0]\n",
            " [   1   14    6   19 2669    3    2    0    0    0    0    0    0    0]\n",
            " [   1   10    6  108  465    3    2    0    0    0    0    0    0    0]], shape=(16, 14), dtype=int32)\n"
          ],
          "name": "stdout"
        }
      ]
    },
    {
      "cell_type": "code",
      "metadata": {
        "id": "BYQcWtXBnDVU",
        "colab": {
          "base_uri": "https://localhost:8080/"
        },
        "outputId": "16a9161c-d92b-4936-f198-58973669c6e8"
      },
      "source": [
        "for x, y in val_dataset.take(1):\n",
        "    print(x.shape)\n",
        "    print(y)"
      ],
      "execution_count": 20,
      "outputs": [
        {
          "output_type": "stream",
          "text": [
            "(16, 13, 128)\n",
            "tf.Tensor(\n",
            "[[   1  406  104 2247   36    9    2    0    0    0    0    0    0    0]\n",
            " [   1   10  229  223  751  313 1070    3    2    0    0    0    0    0]\n",
            " [   1   14    6  194  322  668    3    2    0    0    0    0    0    0]\n",
            " [   1 4736   22   12    3    2    0    0    0    0    0    0    0    0]\n",
            " [   1    5    6 2720    3    2    0    0    0    0    0    0    0    0]\n",
            " [   1    4  463   25    5   16   10  395    3    2    0    0    0    0]\n",
            " [   1 5480   21   19  931    3    2    0    0    0    0    0    0    0]\n",
            " [   1    5    6  297    3    2    0    0    0    0    0    0    0    0]\n",
            " [   1    4   15   62 1307    3    2    0    0    0    0    0    0    0]\n",
            " [   1   42   48   10  101    7    2    0    0    0    0    0    0    0]\n",
            " [   1  133  161 1556    5    3    2    0    0    0    0    0    0    0]\n",
            " [   1    4   18   44  244    3    2    0    0    0    0    0    0    0]\n",
            " [   1    5  110  171   41    3    2    0    0    0    0    0    0    0]\n",
            " [   1    4  440   26  761    3    2    0    0    0    0    0    0    0]\n",
            " [   1   38 1664    8    7    2    0    0    0    0    0    0    0    0]\n",
            " [   1   14   16   22  198  309  438    3    2    0    0    0    0    0]], shape=(16, 14), dtype=int32)\n"
          ],
          "name": "stdout"
        }
      ]
    },
    {
      "cell_type": "markdown",
      "metadata": {
        "id": "wZ61mJdKnDVU"
      },
      "source": [
        "## 3. Create the custom layer\n",
        "You will now create a custom layer to add the learned end token embedding to the encoder model:\n",
        "\n",
        "![Encoder schematic](data/neural_translation_model_encoder.png)"
      ]
    },
    {
      "cell_type": "markdown",
      "metadata": {
        "id": "lB1Sqmz3nDVU"
      },
      "source": [
        "You should now build the custom layer.\n",
        "* Using layer subclassing, create a custom layer that takes a batch of English data examples from one of the Datasets, and adds a learned embedded ‘end’ token to the end of each sequence. \n",
        "* This layer should create a TensorFlow Variable (that will be learned during training) that is 128-dimensional (the size of the embedding space). _Hint: you may find it helpful in the call method to use the tf.tile function to replicate the end token embedding across every element in the batch._\n",
        "* Using the Dataset `.take(1)` method, extract a batch of English data examples from the training Dataset and print the shape. Test the custom layer by calling the layer on the English data batch Tensor and print the resulting Tensor shape (the layer should increase the sequence length by one)."
      ]
    },
    {
      "cell_type": "code",
      "metadata": {
        "id": "FNue_tpsnDVU"
      },
      "source": [
        "class AddLearnedEndTokenLayer(Layer):\n",
        "    \n",
        "    def __init__(self, **kwargs):\n",
        "        \n",
        "        super(AddLearnedEndTokenLayer, self).__init__(**kwargs)\n",
        "        self.end_token_embed = tf.Variable(initial_value=tf.random.uniform(shape=(128,)), trainable=True)\n",
        "        \n",
        "    def call(self, inputs):\n",
        "        \n",
        "        end_token = tf.reshape(self.end_token_embed, (1,1,128))\n",
        "        end_token = tf.tile(end_token, [tf.shape(inputs)[0],1,1])\n",
        "        \n",
        "        return concatenate([inputs, end_token], axis=1)   "
      ],
      "execution_count": 21,
      "outputs": []
    },
    {
      "cell_type": "code",
      "metadata": {
        "id": "EF9Zmf-LnDVU",
        "colab": {
          "base_uri": "https://localhost:8080/"
        },
        "outputId": "38d88521-401e-4557-e0fc-471ea60efe16"
      },
      "source": [
        "for x,y in train_dataset.take(1):\n",
        "    print(x.shape)\n",
        "    print(AddLearnedEndTokenLayer()(x).shape)"
      ],
      "execution_count": 22,
      "outputs": [
        {
          "output_type": "stream",
          "text": [
            "(16, 13, 128)\n",
            "(16, 14, 128)\n"
          ],
          "name": "stdout"
        }
      ]
    },
    {
      "cell_type": "markdown",
      "metadata": {
        "id": "4lAHoYsinDVU"
      },
      "source": [
        "## 4. Build the encoder network\n",
        "The encoder network follows the schematic diagram above. You should now build the RNN encoder model.\n",
        "* Using the functional API, build the encoder network according to the following spec:\n",
        "    * The model will take a batch of sequences of embedded English words as input, as given by the Dataset objects.\n",
        "    * The next layer in the encoder will be the custom layer you created previously, to add a learned end token embedding to the end of the English sequence.\n",
        "    * This is followed by a Masking layer, with the `mask_value` set to the distinct padding value you used when you padded the English sequences with the Dataset preprocessing above.\n",
        "    * The final layer is an LSTM layer with 512 units, which also returns the hidden and cell states.\n",
        "    * The encoder is a multi-output model. There should be two output Tensors of this model: the hidden state and cell states of the LSTM layer. The output of the LSTM layer is unused.\n",
        "* Using the Dataset `.take(1)` method, extract a batch of English data examples from the training Dataset and test the encoder model by calling it on the English data Tensor, and print the shape of the resulting Tensor outputs.\n",
        "* Print the model summary for the encoder network."
      ]
    },
    {
      "cell_type": "code",
      "metadata": {
        "id": "QvvDCtqBnDVU"
      },
      "source": [
        "inputs = Input(shape=(13,128))\n",
        "end_token = AddLearnedEndTokenLayer()(inputs)\n",
        "mask_layer = Masking(mask_value=-1)(end_token)\n",
        "lstm, hidden, cell = LSTM(512, return_state=True)(mask_layer)\n",
        "encoder_model = Model(inputs=inputs, outputs=[hidden, cell])"
      ],
      "execution_count": 23,
      "outputs": []
    },
    {
      "cell_type": "code",
      "metadata": {
        "id": "LaKNxI9inDVU",
        "colab": {
          "base_uri": "https://localhost:8080/"
        },
        "outputId": "5d78348b-10d6-4062-91c1-6d22a3ae59f4"
      },
      "source": [
        "for x,y in train_dataset.take(1):\n",
        "    hidden_state, cell_state = encoder_model(x)\n",
        "    print(hidden_state.shape)\n",
        "    print(cell_state.shape)"
      ],
      "execution_count": 24,
      "outputs": [
        {
          "output_type": "stream",
          "text": [
            "(16, 512)\n",
            "(16, 512)\n"
          ],
          "name": "stdout"
        }
      ]
    },
    {
      "cell_type": "code",
      "metadata": {
        "id": "39sxNR9tnDVU",
        "colab": {
          "base_uri": "https://localhost:8080/"
        },
        "outputId": "94edb5b9-2caa-4bad-da33-7be0bd295a43"
      },
      "source": [
        "encoder_model.summary()"
      ],
      "execution_count": 25,
      "outputs": [
        {
          "output_type": "stream",
          "text": [
            "Model: \"functional_1\"\n",
            "_________________________________________________________________\n",
            "Layer (type)                 Output Shape              Param #   \n",
            "=================================================================\n",
            "input_1 (InputLayer)         [(None, 13, 128)]         0         \n",
            "_________________________________________________________________\n",
            "add_learned_end_token_layer_ (None, 14, 128)           128       \n",
            "_________________________________________________________________\n",
            "masking (Masking)            (None, 14, 128)           0         \n",
            "_________________________________________________________________\n",
            "lstm (LSTM)                  [(None, 512), (None, 512) 1312768   \n",
            "=================================================================\n",
            "Total params: 1,312,896\n",
            "Trainable params: 1,312,896\n",
            "Non-trainable params: 0\n",
            "_________________________________________________________________\n"
          ],
          "name": "stdout"
        }
      ]
    },
    {
      "cell_type": "markdown",
      "metadata": {
        "id": "GY56ZxmOnDVU"
      },
      "source": [
        "## 5. Build the decoder network\n",
        "The decoder network follows the schematic diagram below. \n",
        "\n",
        "![Decoder schematic](data/neural_translation_model_decoder.png)"
      ]
    },
    {
      "cell_type": "markdown",
      "metadata": {
        "id": "inFckT-7nDVU"
      },
      "source": [
        "You should now build the RNN decoder model.\n",
        "* Using Model subclassing, build the decoder network according to the following spec:\n",
        "    * The initializer should create the following layers:\n",
        "        * An Embedding layer with vocabulary size set to the number of unique German tokens, embedding dimension 128, and set to mask zero values in the input.\n",
        "        * An LSTM layer with 512 units, that returns its hidden and cell states, and also returns sequences.\n",
        "        * A Dense layer with number of units equal to the number of unique German tokens, and no activation function.\n",
        "    * The call method should include the usual `inputs` argument, as well as the additional keyword arguments `hidden_state` and `cell_state`. The default value for these keyword arguments should be `None`.\n",
        "    * The call method should pass the inputs through the Embedding layer, and then through the LSTM layer. If the `hidden_state` and `cell_state` arguments are provided, these should be used for the initial state of the LSTM layer. _Hint: use the_ `initial_state` _keyword argument when calling the LSTM layer on its input._\n",
        "    * The call method should pass the LSTM output sequence through the Dense layer, and return the resulting Tensor, along with the hidden and cell states of the LSTM layer.\n",
        "* Using the Dataset `.take(1)` method, extract a batch of English and German data examples from the training Dataset. Test the decoder model by first calling the encoder model on the English data Tensor to get the hidden and cell states, and then call the decoder model on the German data Tensor and hidden and cell states, and print the shape of the resulting decoder Tensor outputs.\n",
        "* Print the model summary for the decoder network."
      ]
    },
    {
      "cell_type": "code",
      "metadata": {
        "id": "mDg_f_OwnDVU"
      },
      "source": [
        "vocab_size = max(tokenizer.word_index.values()) + 1"
      ],
      "execution_count": 26,
      "outputs": []
    },
    {
      "cell_type": "code",
      "metadata": {
        "id": "KiyQYGmOnDVU"
      },
      "source": [
        "class decoder_model(Model):\n",
        "    \n",
        "    def __init__(self):\n",
        "        super(decoder_model, self).__init__()\n",
        "        self.embedding = Embedding(vocab_size, 128, mask_zero=True)\n",
        "        self.lstm = LSTM(512, return_sequences=True, return_state=True)\n",
        "        self.fc = Dense(vocab_size)\n",
        "        \n",
        "    def call(self, inputs, hidden_state=None, cell_state=None):\n",
        "        \n",
        "        x = self.embedding(inputs)\n",
        "        x, h, c = self.lstm(inputs=x, initial_state=[hidden_state, cell_state])\n",
        "        x = self.fc(x)\n",
        "        \n",
        "        return (x,h,c)"
      ],
      "execution_count": 27,
      "outputs": []
    },
    {
      "cell_type": "code",
      "metadata": {
        "id": "NLNBtYKnnDVU"
      },
      "source": [
        "decoder_model = decoder_model()"
      ],
      "execution_count": 28,
      "outputs": []
    },
    {
      "cell_type": "code",
      "metadata": {
        "id": "HEp5puE5nDVU",
        "colab": {
          "base_uri": "https://localhost:8080/"
        },
        "outputId": "76837c13-b225-4b90-e8ee-166171b7ec51"
      },
      "source": [
        "for x,y in train_dataset.take(1):\n",
        "    h, c = encoder_model(x)\n",
        "    outputs, h, c = decoder_model(y, h, c)\n",
        "    print(outputs.shape)\n",
        "    print(h.shape)\n",
        "    print(c.shape)"
      ],
      "execution_count": 29,
      "outputs": [
        {
          "output_type": "stream",
          "text": [
            "(16, 14, 5744)\n",
            "(16, 512)\n",
            "(16, 512)\n"
          ],
          "name": "stdout"
        }
      ]
    },
    {
      "cell_type": "code",
      "metadata": {
        "id": "zIS1nlXgnDVU",
        "colab": {
          "base_uri": "https://localhost:8080/"
        },
        "outputId": "8ff33e94-5a3b-4030-cb68-749791a0d493"
      },
      "source": [
        "decoder_model.summary()"
      ],
      "execution_count": 30,
      "outputs": [
        {
          "output_type": "stream",
          "text": [
            "Model: \"decoder_model\"\n",
            "_________________________________________________________________\n",
            "Layer (type)                 Output Shape              Param #   \n",
            "=================================================================\n",
            "embedding (Embedding)        multiple                  735232    \n",
            "_________________________________________________________________\n",
            "lstm_1 (LSTM)                multiple                  1312768   \n",
            "_________________________________________________________________\n",
            "dense (Dense)                multiple                  2946672   \n",
            "=================================================================\n",
            "Total params: 4,994,672\n",
            "Trainable params: 4,994,672\n",
            "Non-trainable params: 0\n",
            "_________________________________________________________________\n"
          ],
          "name": "stdout"
        }
      ]
    },
    {
      "cell_type": "markdown",
      "metadata": {
        "id": "AsrLl69BnDVU"
      },
      "source": [
        "## 6. Make a custom training loop\n",
        "You should now write a custom training loop to train your custom neural translation model.\n",
        "* Define a function that takes a Tensor batch of German data (as extracted from the training Dataset), and returns a tuple containing German inputs and outputs for the decoder model (refer to schematic diagram above).\n",
        "* Define a function that computes the forward and backward pass for your translation model. This function should take an English input, German input and German output as arguments, and should do the following:\n",
        "    * Pass the English input into the encoder, to get the hidden and cell states of the encoder LSTM.\n",
        "    * These hidden and cell states are then passed into the decoder, along with the German inputs, which returns a sequence of outputs (the hidden and cell state outputs of the decoder LSTM are unused in this function).\n",
        "    * The loss should then be computed between the decoder outputs and the German output function argument.\n",
        "    * The function returns the loss and gradients with respect to the encoder and decoder’s trainable variables.\n",
        "    * Decorate the function with @tf.function\n",
        "* Define and run a custom training loop for a number of epochs (for you to choose) that does the following:\n",
        "    * Iterates through the training dataset, and creates decoder inputs and outputs from the German sequences.\n",
        "    * Updates the parameters of the translation model using the gradients of the function above and an optimizer object.\n",
        "    * Every epoch, compute the validation loss on a number of batches from the validation and save the epoch training and validation losses.\n",
        "* Plot the learning curves for loss vs epoch for both training and validation sets.\n",
        "\n",
        "_Hint: This model is computationally demanding to train. The quality of the model or length of training is not a factor in the grading rubric. However, to obtain a better model we recommend using the GPU accelerator hardware on Colab._"
      ]
    },
    {
      "cell_type": "code",
      "metadata": {
        "id": "cBW7VLnXnDVU"
      },
      "source": [
        "def create_output_data(y):\n",
        "    german_i = y[:,:-1]\n",
        "    german_o = y[:,1:]\n",
        "    return (german_i, german_o)"
      ],
      "execution_count": 31,
      "outputs": []
    },
    {
      "cell_type": "code",
      "metadata": {
        "id": "BFiV254SnDVU"
      },
      "source": [
        "@tf.function\n",
        "\n",
        "def grad(x, y_i, y_o):\n",
        "    \n",
        "    with tf.GradientTape() as tape:\n",
        "        h, c = encoder_model(x)\n",
        "        y_hat, h, c = decoder_model(y_i, h, c)\n",
        "        loss = tf.keras.losses.sparse_categorical_crossentropy(y_o, y_hat, from_logits=True)\n",
        "        \n",
        "    encoder_grads, decoder_grads = tape.gradient(loss, [encoder_model.trainable_variables, decoder_model.trainable_variables])\n",
        "        \n",
        "    return (loss, encoder_grads, decoder_grads)"
      ],
      "execution_count": 32,
      "outputs": []
    },
    {
      "cell_type": "code",
      "metadata": {
        "id": "o_mT0q-SnDVU"
      },
      "source": [
        "optimizer = tf.keras.optimizers.Adam(learning_rate=0.01)"
      ],
      "execution_count": 33,
      "outputs": []
    },
    {
      "cell_type": "code",
      "metadata": {
        "id": "0LUALbkOnDVU",
        "colab": {
          "base_uri": "https://localhost:8080/",
          "height": 639
        },
        "outputId": "07217f7a-d329-4c40-96b9-0644a0965cae"
      },
      "source": [
        "num_epochs = 100\n",
        "epoch_training_losses = []\n",
        "epoch_val_losses = []\n",
        "\n",
        "for epoch in range(num_epochs):\n",
        "    \n",
        "    train_losses = tf.keras.metrics.Mean()\n",
        "    val_losses = tf.keras.metrics.Mean()\n",
        "    \n",
        "    for x,y in train_dataset:\n",
        "        y_i, y_o = create_output_data(y)\n",
        "        loss, encoder_grads, decoder_grads = grad(x, y_i, y_o)\n",
        "        optimizer.apply_gradients(zip(encoder_grads, encoder_model.trainable_variables))\n",
        "        optimizer.apply_gradients(zip(decoder_grads, decoder_model.trainable_variables))\n",
        "        train_losses(loss)\n",
        "    \n",
        "    epoch_training_losses.append(train_losses.result())\n",
        "    \n",
        "    for x,y in val_dataset:\n",
        "        y_i, y_o = create_output_data(y)\n",
        "        h_val, c_val = encoder_model(x)\n",
        "        y_hat, h_val, c_val = decoder_model(y_i, h_val, c_val)\n",
        "        val_loss = tf.keras.losses.sparse_categorical_crossentropy(y_o, y_hat, from_logits=True)\n",
        "        val_losses(val_loss)\n",
        "    \n",
        "    epoch_val_losses.append(val_losses.result())\n",
        "    \n",
        "    print(f\"Epoch: {epoch+1}  Training Loss: {train_losses.result():.2f}  Validation Loss: {val_losses.result():.2f}\")"
      ],
      "execution_count": 36,
      "outputs": [
        {
          "output_type": "stream",
          "text": [
            "Epoch: 1  Training Loss: 1.29  Validation Loss: 1.47\n",
            "Epoch: 2  Training Loss: 1.16  Validation Loss: 1.50\n",
            "Epoch: 3  Training Loss: 1.08  Validation Loss: 1.54\n",
            "Epoch: 4  Training Loss: 1.04  Validation Loss: 1.57\n",
            "Epoch: 5  Training Loss: 1.01  Validation Loss: 1.61\n",
            "Epoch: 6  Training Loss: 0.98  Validation Loss: 1.63\n",
            "Epoch: 7  Training Loss: 0.98  Validation Loss: 1.66\n",
            "Epoch: 8  Training Loss: 0.96  Validation Loss: 1.71\n",
            "Epoch: 9  Training Loss: 0.95  Validation Loss: 1.74\n",
            "Epoch: 10  Training Loss: 0.95  Validation Loss: 1.77\n",
            "Epoch: 11  Training Loss: 0.94  Validation Loss: 1.79\n",
            "Epoch: 12  Training Loss: 0.94  Validation Loss: 1.82\n",
            "Epoch: 13  Training Loss: 0.93  Validation Loss: 1.84\n",
            "Epoch: 14  Training Loss: 0.93  Validation Loss: 1.89\n",
            "Epoch: 15  Training Loss: 0.93  Validation Loss: 1.91\n",
            "Epoch: 16  Training Loss: 0.93  Validation Loss: 1.92\n"
          ],
          "name": "stdout"
        },
        {
          "output_type": "error",
          "ename": "KeyboardInterrupt",
          "evalue": "ignored",
          "traceback": [
            "\u001b[0;31m---------------------------------------------------------------------------\u001b[0m",
            "\u001b[0;31mKeyboardInterrupt\u001b[0m                         Traceback (most recent call last)",
            "\u001b[0;32m<ipython-input-36-54f79159a269>\u001b[0m in \u001b[0;36m<module>\u001b[0;34m()\u001b[0m\n\u001b[1;32m     10\u001b[0m     \u001b[0;32mfor\u001b[0m \u001b[0mx\u001b[0m\u001b[0;34m,\u001b[0m\u001b[0my\u001b[0m \u001b[0;32min\u001b[0m \u001b[0mtrain_dataset\u001b[0m\u001b[0;34m:\u001b[0m\u001b[0;34m\u001b[0m\u001b[0;34m\u001b[0m\u001b[0m\n\u001b[1;32m     11\u001b[0m         \u001b[0my_i\u001b[0m\u001b[0;34m,\u001b[0m \u001b[0my_o\u001b[0m \u001b[0;34m=\u001b[0m \u001b[0mcreate_output_data\u001b[0m\u001b[0;34m(\u001b[0m\u001b[0my\u001b[0m\u001b[0;34m)\u001b[0m\u001b[0;34m\u001b[0m\u001b[0;34m\u001b[0m\u001b[0m\n\u001b[0;32m---> 12\u001b[0;31m         \u001b[0mloss\u001b[0m\u001b[0;34m,\u001b[0m \u001b[0mencoder_grads\u001b[0m\u001b[0;34m,\u001b[0m \u001b[0mdecoder_grads\u001b[0m \u001b[0;34m=\u001b[0m \u001b[0mgrad\u001b[0m\u001b[0;34m(\u001b[0m\u001b[0mx\u001b[0m\u001b[0;34m,\u001b[0m \u001b[0my_i\u001b[0m\u001b[0;34m,\u001b[0m \u001b[0my_o\u001b[0m\u001b[0;34m)\u001b[0m\u001b[0;34m\u001b[0m\u001b[0;34m\u001b[0m\u001b[0m\n\u001b[0m\u001b[1;32m     13\u001b[0m         \u001b[0moptimizer\u001b[0m\u001b[0;34m.\u001b[0m\u001b[0mapply_gradients\u001b[0m\u001b[0;34m(\u001b[0m\u001b[0mzip\u001b[0m\u001b[0;34m(\u001b[0m\u001b[0mencoder_grads\u001b[0m\u001b[0;34m,\u001b[0m \u001b[0mencoder_model\u001b[0m\u001b[0;34m.\u001b[0m\u001b[0mtrainable_variables\u001b[0m\u001b[0;34m)\u001b[0m\u001b[0;34m)\u001b[0m\u001b[0;34m\u001b[0m\u001b[0;34m\u001b[0m\u001b[0m\n\u001b[1;32m     14\u001b[0m         \u001b[0moptimizer\u001b[0m\u001b[0;34m.\u001b[0m\u001b[0mapply_gradients\u001b[0m\u001b[0;34m(\u001b[0m\u001b[0mzip\u001b[0m\u001b[0;34m(\u001b[0m\u001b[0mdecoder_grads\u001b[0m\u001b[0;34m,\u001b[0m \u001b[0mdecoder_model\u001b[0m\u001b[0;34m.\u001b[0m\u001b[0mtrainable_variables\u001b[0m\u001b[0;34m)\u001b[0m\u001b[0;34m)\u001b[0m\u001b[0;34m\u001b[0m\u001b[0;34m\u001b[0m\u001b[0m\n",
            "\u001b[0;32m/usr/local/lib/python3.6/dist-packages/tensorflow/python/eager/def_function.py\u001b[0m in \u001b[0;36m__call__\u001b[0;34m(self, *args, **kwds)\u001b[0m\n\u001b[1;32m    778\u001b[0m       \u001b[0;32melse\u001b[0m\u001b[0;34m:\u001b[0m\u001b[0;34m\u001b[0m\u001b[0;34m\u001b[0m\u001b[0m\n\u001b[1;32m    779\u001b[0m         \u001b[0mcompiler\u001b[0m \u001b[0;34m=\u001b[0m \u001b[0;34m\"nonXla\"\u001b[0m\u001b[0;34m\u001b[0m\u001b[0;34m\u001b[0m\u001b[0m\n\u001b[0;32m--> 780\u001b[0;31m         \u001b[0mresult\u001b[0m \u001b[0;34m=\u001b[0m \u001b[0mself\u001b[0m\u001b[0;34m.\u001b[0m\u001b[0m_call\u001b[0m\u001b[0;34m(\u001b[0m\u001b[0;34m*\u001b[0m\u001b[0margs\u001b[0m\u001b[0;34m,\u001b[0m \u001b[0;34m**\u001b[0m\u001b[0mkwds\u001b[0m\u001b[0;34m)\u001b[0m\u001b[0;34m\u001b[0m\u001b[0;34m\u001b[0m\u001b[0m\n\u001b[0m\u001b[1;32m    781\u001b[0m \u001b[0;34m\u001b[0m\u001b[0m\n\u001b[1;32m    782\u001b[0m       \u001b[0mnew_tracing_count\u001b[0m \u001b[0;34m=\u001b[0m \u001b[0mself\u001b[0m\u001b[0;34m.\u001b[0m\u001b[0m_get_tracing_count\u001b[0m\u001b[0;34m(\u001b[0m\u001b[0;34m)\u001b[0m\u001b[0;34m\u001b[0m\u001b[0;34m\u001b[0m\u001b[0m\n",
            "\u001b[0;32m/usr/local/lib/python3.6/dist-packages/tensorflow/python/eager/def_function.py\u001b[0m in \u001b[0;36m_call\u001b[0;34m(self, *args, **kwds)\u001b[0m\n\u001b[1;32m    812\u001b[0m       \u001b[0;31m# In this case we have not created variables on the first call. So we can\u001b[0m\u001b[0;34m\u001b[0m\u001b[0;34m\u001b[0m\u001b[0;34m\u001b[0m\u001b[0m\n\u001b[1;32m    813\u001b[0m       \u001b[0;31m# run the first trace but we should fail if variables are created.\u001b[0m\u001b[0;34m\u001b[0m\u001b[0;34m\u001b[0m\u001b[0;34m\u001b[0m\u001b[0m\n\u001b[0;32m--> 814\u001b[0;31m       \u001b[0mresults\u001b[0m \u001b[0;34m=\u001b[0m \u001b[0mself\u001b[0m\u001b[0;34m.\u001b[0m\u001b[0m_stateful_fn\u001b[0m\u001b[0;34m(\u001b[0m\u001b[0;34m*\u001b[0m\u001b[0margs\u001b[0m\u001b[0;34m,\u001b[0m \u001b[0;34m**\u001b[0m\u001b[0mkwds\u001b[0m\u001b[0;34m)\u001b[0m\u001b[0;34m\u001b[0m\u001b[0;34m\u001b[0m\u001b[0m\n\u001b[0m\u001b[1;32m    815\u001b[0m       \u001b[0;32mif\u001b[0m \u001b[0mself\u001b[0m\u001b[0;34m.\u001b[0m\u001b[0m_created_variables\u001b[0m\u001b[0;34m:\u001b[0m\u001b[0;34m\u001b[0m\u001b[0;34m\u001b[0m\u001b[0m\n\u001b[1;32m    816\u001b[0m         raise ValueError(\"Creating variables on a non-first call to a function\"\n",
            "\u001b[0;32m/usr/local/lib/python3.6/dist-packages/tensorflow/python/eager/function.py\u001b[0m in \u001b[0;36m__call__\u001b[0;34m(self, *args, **kwargs)\u001b[0m\n\u001b[1;32m   2827\u001b[0m     \u001b[0;32mwith\u001b[0m \u001b[0mself\u001b[0m\u001b[0;34m.\u001b[0m\u001b[0m_lock\u001b[0m\u001b[0;34m:\u001b[0m\u001b[0;34m\u001b[0m\u001b[0;34m\u001b[0m\u001b[0m\n\u001b[1;32m   2828\u001b[0m       \u001b[0mgraph_function\u001b[0m\u001b[0;34m,\u001b[0m \u001b[0margs\u001b[0m\u001b[0;34m,\u001b[0m \u001b[0mkwargs\u001b[0m \u001b[0;34m=\u001b[0m \u001b[0mself\u001b[0m\u001b[0;34m.\u001b[0m\u001b[0m_maybe_define_function\u001b[0m\u001b[0;34m(\u001b[0m\u001b[0margs\u001b[0m\u001b[0;34m,\u001b[0m \u001b[0mkwargs\u001b[0m\u001b[0;34m)\u001b[0m\u001b[0;34m\u001b[0m\u001b[0;34m\u001b[0m\u001b[0m\n\u001b[0;32m-> 2829\u001b[0;31m     \u001b[0;32mreturn\u001b[0m \u001b[0mgraph_function\u001b[0m\u001b[0;34m.\u001b[0m\u001b[0m_filtered_call\u001b[0m\u001b[0;34m(\u001b[0m\u001b[0margs\u001b[0m\u001b[0;34m,\u001b[0m \u001b[0mkwargs\u001b[0m\u001b[0;34m)\u001b[0m  \u001b[0;31m# pylint: disable=protected-access\u001b[0m\u001b[0;34m\u001b[0m\u001b[0;34m\u001b[0m\u001b[0m\n\u001b[0m\u001b[1;32m   2830\u001b[0m \u001b[0;34m\u001b[0m\u001b[0m\n\u001b[1;32m   2831\u001b[0m   \u001b[0;34m@\u001b[0m\u001b[0mproperty\u001b[0m\u001b[0;34m\u001b[0m\u001b[0;34m\u001b[0m\u001b[0m\n",
            "\u001b[0;32m/usr/local/lib/python3.6/dist-packages/tensorflow/python/eager/function.py\u001b[0m in \u001b[0;36m_filtered_call\u001b[0;34m(self, args, kwargs, cancellation_manager)\u001b[0m\n\u001b[1;32m   1846\u001b[0m                            resource_variable_ops.BaseResourceVariable))],\n\u001b[1;32m   1847\u001b[0m         \u001b[0mcaptured_inputs\u001b[0m\u001b[0;34m=\u001b[0m\u001b[0mself\u001b[0m\u001b[0;34m.\u001b[0m\u001b[0mcaptured_inputs\u001b[0m\u001b[0;34m,\u001b[0m\u001b[0;34m\u001b[0m\u001b[0;34m\u001b[0m\u001b[0m\n\u001b[0;32m-> 1848\u001b[0;31m         cancellation_manager=cancellation_manager)\n\u001b[0m\u001b[1;32m   1849\u001b[0m \u001b[0;34m\u001b[0m\u001b[0m\n\u001b[1;32m   1850\u001b[0m   \u001b[0;32mdef\u001b[0m \u001b[0m_call_flat\u001b[0m\u001b[0;34m(\u001b[0m\u001b[0mself\u001b[0m\u001b[0;34m,\u001b[0m \u001b[0margs\u001b[0m\u001b[0;34m,\u001b[0m \u001b[0mcaptured_inputs\u001b[0m\u001b[0;34m,\u001b[0m \u001b[0mcancellation_manager\u001b[0m\u001b[0;34m=\u001b[0m\u001b[0;32mNone\u001b[0m\u001b[0;34m)\u001b[0m\u001b[0;34m:\u001b[0m\u001b[0;34m\u001b[0m\u001b[0;34m\u001b[0m\u001b[0m\n",
            "\u001b[0;32m/usr/local/lib/python3.6/dist-packages/tensorflow/python/eager/function.py\u001b[0m in \u001b[0;36m_call_flat\u001b[0;34m(self, args, captured_inputs, cancellation_manager)\u001b[0m\n\u001b[1;32m   1922\u001b[0m       \u001b[0;31m# No tape is watching; skip to running the function.\u001b[0m\u001b[0;34m\u001b[0m\u001b[0;34m\u001b[0m\u001b[0;34m\u001b[0m\u001b[0m\n\u001b[1;32m   1923\u001b[0m       return self._build_call_outputs(self._inference_function.call(\n\u001b[0;32m-> 1924\u001b[0;31m           ctx, args, cancellation_manager=cancellation_manager))\n\u001b[0m\u001b[1;32m   1925\u001b[0m     forward_backward = self._select_forward_and_backward_functions(\n\u001b[1;32m   1926\u001b[0m         \u001b[0margs\u001b[0m\u001b[0;34m,\u001b[0m\u001b[0;34m\u001b[0m\u001b[0;34m\u001b[0m\u001b[0m\n",
            "\u001b[0;32m/usr/local/lib/python3.6/dist-packages/tensorflow/python/eager/function.py\u001b[0m in \u001b[0;36mcall\u001b[0;34m(self, ctx, args, cancellation_manager)\u001b[0m\n\u001b[1;32m    548\u001b[0m               \u001b[0minputs\u001b[0m\u001b[0;34m=\u001b[0m\u001b[0margs\u001b[0m\u001b[0;34m,\u001b[0m\u001b[0;34m\u001b[0m\u001b[0;34m\u001b[0m\u001b[0m\n\u001b[1;32m    549\u001b[0m               \u001b[0mattrs\u001b[0m\u001b[0;34m=\u001b[0m\u001b[0mattrs\u001b[0m\u001b[0;34m,\u001b[0m\u001b[0;34m\u001b[0m\u001b[0;34m\u001b[0m\u001b[0m\n\u001b[0;32m--> 550\u001b[0;31m               ctx=ctx)\n\u001b[0m\u001b[1;32m    551\u001b[0m         \u001b[0;32melse\u001b[0m\u001b[0;34m:\u001b[0m\u001b[0;34m\u001b[0m\u001b[0;34m\u001b[0m\u001b[0m\n\u001b[1;32m    552\u001b[0m           outputs = execute.execute_with_cancellation(\n",
            "\u001b[0;32m/usr/local/lib/python3.6/dist-packages/tensorflow/python/eager/execute.py\u001b[0m in \u001b[0;36mquick_execute\u001b[0;34m(op_name, num_outputs, inputs, attrs, ctx, name)\u001b[0m\n\u001b[1;32m     58\u001b[0m     \u001b[0mctx\u001b[0m\u001b[0;34m.\u001b[0m\u001b[0mensure_initialized\u001b[0m\u001b[0;34m(\u001b[0m\u001b[0;34m)\u001b[0m\u001b[0;34m\u001b[0m\u001b[0;34m\u001b[0m\u001b[0m\n\u001b[1;32m     59\u001b[0m     tensors = pywrap_tfe.TFE_Py_Execute(ctx._handle, device_name, op_name,\n\u001b[0;32m---> 60\u001b[0;31m                                         inputs, attrs, num_outputs)\n\u001b[0m\u001b[1;32m     61\u001b[0m   \u001b[0;32mexcept\u001b[0m \u001b[0mcore\u001b[0m\u001b[0;34m.\u001b[0m\u001b[0m_NotOkStatusException\u001b[0m \u001b[0;32mas\u001b[0m \u001b[0me\u001b[0m\u001b[0;34m:\u001b[0m\u001b[0;34m\u001b[0m\u001b[0;34m\u001b[0m\u001b[0m\n\u001b[1;32m     62\u001b[0m     \u001b[0;32mif\u001b[0m \u001b[0mname\u001b[0m \u001b[0;32mis\u001b[0m \u001b[0;32mnot\u001b[0m \u001b[0;32mNone\u001b[0m\u001b[0;34m:\u001b[0m\u001b[0;34m\u001b[0m\u001b[0;34m\u001b[0m\u001b[0m\n",
            "\u001b[0;31mKeyboardInterrupt\u001b[0m: "
          ]
        }
      ]
    },
    {
      "cell_type": "code",
      "metadata": {
        "id": "273TmTqHnDVU",
        "colab": {
          "base_uri": "https://localhost:8080/",
          "height": 558
        },
        "outputId": "05bbe6fa-68d1-4d90-b082-bdbd0dfb3d5c"
      },
      "source": [
        "import matplotlib.pyplot as plt\n",
        "\n",
        "fig, axes = plt.subplots(2, sharex=True, figsize=(12, 8))\n",
        "fig.suptitle('Metrics')\n",
        "\n",
        "axes[0].set_ylabel(\"Training Loss\", fontsize=14)\n",
        "axes[0].plot(epoch_training_losses)\n",
        "\n",
        "axes[1].set_ylabel(\"Validation Loss\", fontsize=14)\n",
        "axes[1].set_xlabel(\"Epoch\", fontsize=14)\n",
        "axes[1].plot(epoch_val_losses)\n",
        "plt.show()"
      ],
      "execution_count": 38,
      "outputs": [
        {
          "output_type": "display_data",
          "data": {
            "image/png": "[encoded data removed]",
            "text/plain": [
              "<Figure size 864x576 with 2 Axes>"
            ]
          },
          "metadata": {
            "tags": [],
            "needs_background": "light"
          }
        }
      ]
    },
    {
      "cell_type": "markdown",
      "metadata": {
        "id": "SohMJdwenDVU"
      },
      "source": [
        "## 7. Use the model to translate\n",
        "Now it's time to put your model into practice! You should run your translation for five randomly sampled English sentences from the dataset. For each sentence, the process is as follows:\n",
        "* Preprocess and embed the English sentence according to the model requirements.\n",
        "* Pass the embedded sentence through the encoder to get the encoder hidden and cell states.\n",
        "* Starting with the special  `\"<start>\"` token, use this token and the final encoder hidden and cell states to get the one-step prediction from the decoder, as well as the decoder’s updated hidden and cell states.\n",
        "* Create a loop to get the next step prediction and updated hidden and cell states from the decoder, using the most recent hidden and cell states. Terminate the loop when the `\"<end>\"` token is emitted, or when the sentence has reached a maximum length.\n",
        "* Decode the output token sequence into German text and print the English text and the model's German translation."
      ]
    },
    {
      "cell_type": "code",
      "metadata": {
        "colab": {
          "base_uri": "https://localhost:8080/"
        },
        "id": "DD_GaP8bcyHs",
        "outputId": "84d7fd08-e50d-4485-c662-d0a3b7bd3d54"
      },
      "source": [
        "start_token = tf.constant([[1]])\n",
        "start_token.numpy()[0][0]"
      ],
      "execution_count": 41,
      "outputs": [
        {
          "output_type": "execute_result",
          "data": {
            "text/plain": [
              "1"
            ]
          },
          "metadata": {
            "tags": []
          },
          "execution_count": 41
        }
      ]
    },
    {
      "cell_type": "code",
      "metadata": {
        "id": "nuyQUSh2dY3D"
      },
      "source": [
        "ind_to_word =  tokenizer.index_word"
      ],
      "execution_count": 43,
      "outputs": []
    },
    {
      "cell_type": "code",
      "metadata": {
        "colab": {
          "base_uri": "https://localhost:8080/"
        },
        "id": "AI_EBz3bdlTv",
        "outputId": "beb22b3e-b46a-45fc-ac11-a41f59ee7e06"
      },
      "source": [
        "type(ind_to_word)"
      ],
      "execution_count": 44,
      "outputs": [
        {
          "output_type": "execute_result",
          "data": {
            "text/plain": [
              "dict"
            ]
          },
          "metadata": {
            "tags": []
          },
          "execution_count": 44
        }
      ]
    },
    {
      "cell_type": "code",
      "metadata": {
        "id": "c63-qv3wnDVU",
        "colab": {
          "base_uri": "https://localhost:8080/"
        },
        "outputId": "c93496b7-56f5-4e60-8b12-ef56f79e46f3"
      },
      "source": [
        "idx = np.random.choice(len(english_sentences), 5)\n",
        "print()\n",
        "\n",
        "for j,i in enumerate(idx):\n",
        "  eng_sen = english_sentences[i]\n",
        "  print(f\"Example: {j+1}\")\n",
        "  print(f\"English Sentence:   {eng_sen}\")\n",
        "  x_l = tf.strings.split(eng_sen, sep=' ')\n",
        "  embeddings = embedding_layer(x_l)\n",
        "  x = tf.expand_dims(embeddings, 0)\n",
        "  h, c = encoder_model(x)\n",
        "  start_token = tf.constant([[1]])\n",
        "  decoder_input = start_token\n",
        "  german_translated = []\n",
        "  while decoder_input.numpy()[0][0] != 2 :\n",
        "    decoder_output, h, c = decoder_model(decoder_input, h, c) \n",
        "    predicted_output_index = np.argmax(decoder_output, axis=-1)\n",
        "    predicted_output_index = predicted_output_index[0][0]\n",
        "    german_translated.append(ind_to_word[predicted_output_index])\n",
        "    decoder_input = tf.constant([[predicted_output_index]])\n",
        "\n",
        "  trans_german = \" \".join(german_translated)\n",
        "\n",
        "  print(f\"Translated German Sentence:   {trans_german}\")\n",
        "  print(f\"original German Translation: {german_sentences[i]}\")\n",
        "  print()\n",
        "  print()"
      ],
      "execution_count": 57,
      "outputs": [
        {
          "output_type": "stream",
          "text": [
            "\n",
            "Example: 1\n",
            "English Sentence:   it was black .\n",
            "Translated German Sentence:   ich bin ein bisschen groggy . <end>\n",
            "original German Translation: <start> es war schwarz . <end>\n",
            "\n",
            "\n",
            "Example: 2\n",
            "English Sentence:   it's not a fish .\n",
            "Translated German Sentence:   ich bin ein moench . <end>\n",
            "original German Translation: <start> das ist kein fisch . <end>\n",
            "\n",
            "\n",
            "Example: 3\n",
            "English Sentence:   what's her name ?\n",
            "Translated German Sentence:   ich bin ein bisschen groggy . <end>\n",
            "original German Translation: <start> wie ist ihr name ? <end>\n",
            "\n",
            "\n",
            "Example: 4\n",
            "English Sentence:   i can't help it .\n",
            "Translated German Sentence:   ich bin ein moench . <end>\n",
            "original German Translation: <start> ich kann nichts dafuer . <end>\n",
            "\n",
            "\n",
            "Example: 5\n",
            "English Sentence:   there are more .\n",
            "Translated German Sentence:   ich bin ein bisschen groggy . <end>\n",
            "original German Translation: <start> es gibt mehr davon . <end>\n",
            "\n",
            "\n"
          ],
          "name": "stdout"
        }
      ]
    },
    {
      "cell_type": "code",
      "metadata": {
        "id": "r-jnv-p7nDVU"
      },
      "source": [
        ""
      ],
      "execution_count": null,
      "outputs": []
    },
    {
      "cell_type": "code",
      "metadata": {
        "id": "Asba4w4fnDVU"
      },
      "source": [
        ""
      ],
      "execution_count": null,
      "outputs": []
    },
    {
      "cell_type": "code",
      "metadata": {
        "id": "zAIS5rFufHxh"
      },
      "source": [
        ""
      ],
      "execution_count": null,
      "outputs": []
    }
  ]
}